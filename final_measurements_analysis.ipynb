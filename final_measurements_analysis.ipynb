{
 "cells": [
  {
   "cell_type": "markdown",
   "id": "59ace384-3876-4227-8548-0924605d8142",
   "metadata": {},
   "source": [
    "# Measurements analysis"
   ]
  },
  {
   "cell_type": "code",
   "execution_count": 1,
   "id": "b616202d-4a39-4124-882a-d6b71198e6ec",
   "metadata": {},
   "outputs": [],
   "source": [
    "import math\n",
    "import numpy as np\n",
    "import matplotlib.pyplot as plt\n",
    "import matplotlib.colors as mcolors\n",
    "from mpl_toolkits.mplot3d import Axes3D\n",
    "\n",
    "from calculations_annular_valve import MRF"
   ]
  },
  {
   "cell_type": "markdown",
   "id": "c7a02bca-92cd-48e8-9ec6-2982b84fbcaf",
   "metadata": {},
   "source": [
    "## Data collected\n",
    "### Reading the .txt files"
   ]
  },
  {
   "cell_type": "code",
   "execution_count": 2,
   "id": "c4b8a21f-c14f-421a-bf38-2d2b297bcd34",
   "metadata": {},
   "outputs": [
    {
     "name": "stdout",
     "output_type": "stream",
     "text": [
      "new I\n",
      "new I\n",
      "new I\n",
      "new I\n",
      "new I\n",
      "new I\n",
      "new I\n",
      "new I\n",
      "new I\n",
      "new I\n",
      "new I\n",
      "new I\n",
      "new I\n",
      "new I\n",
      "new I\n",
      "new I\n",
      "new I\n",
      "new I\n",
      "new I\n",
      "new I\n",
      "new I\n",
      "new I\n",
      "new I\n",
      "new I\n",
      "new I\n",
      "new I\n",
      "new I\n",
      "new I\n",
      "new I\n",
      "new I\n",
      "new I\n",
      "new I\n",
      "new I\n",
      "new I\n",
      "new I\n",
      "new I\n",
      "new I\n",
      "new I\n",
      "new I\n",
      "new I\n",
      "new I\n",
      "new I\n",
      "new I\n",
      "new I\n",
      "new I\n",
      "new I\n",
      "new I\n",
      "new I\n",
      "new I\n",
      "new I\n",
      "new I\n",
      "new I\n",
      "new I\n",
      "new I\n"
     ]
    }
   ],
   "source": [
    "# It takes 180 seconds\n",
    "pressures = [\"135kPa\", \"190kPa\", \"270kPa\", \"380kPa\", \"540kPa\"]\n",
    "currents = [\"000mA\", \"050mA\", \"100mA\", \"150mA\", \"200mA\", \"250mA\", \"300mA\", \"350mA\",\n",
    "            \"400mA\", \"450mA\", \"500mA\", \"550mA\", \"600mA\", \"650mA\", \"700mA\", \"750mA\",\n",
    "            \"800mA\", \"850mA\", \"900mA\", \"950mA\", \"1000mA\"]\n",
    "measurements_types = [\"V\", \"P\"]\n",
    "number_measures = 3\n",
    "data = {}\n",
    "\n",
    "# construction of the data architecture\n",
    "for counter_P, P in enumerate(pressures):\n",
    "    data[P] = {}\n",
    "    for counter_I ,I in enumerate(currents):\n",
    "        if counter_I >= counter_P*2 and counter_I <= 10 + counter_P*2 and not (P == \"540kPa\" and I == \"400mA\"):\n",
    "            print(\"new I\")\n",
    "            data[P][I] = {}\n",
    "            for m_type in measurements_types:\n",
    "                data[P][I][m_type] = [None]*number_measures\n",
    "                \n",
    "                # Read the .txt files\n",
    "                for i in range(number_measures):\n",
    "                    data[P][I][m_type][i] = np.loadtxt(\"Sofia_setup_20_12_2021/P_onoff_\" + I + \"_\" + P + \"_\" + m_type + \"_0\" + str(i+1) + \".txt\",\n",
    "                                                       delimiter=\",\", skiprows=5)"
   ]
  },
  {
   "cell_type": "markdown",
   "id": "aed125b6-65a3-441a-b4c8-2f7625d0513a",
   "metadata": {},
   "source": [
    "### Plotting the data"
   ]
  },
  {
   "cell_type": "code",
   "execution_count": 10,
   "id": "0067d848-9aea-4503-aed2-d5832001d5c4",
   "metadata": {},
   "outputs": [],
   "source": [
    "# Conversion functions\n",
    "def conv_P(P):\n",
    "    return P*202_500 - 203_200\n",
    "def conv_V(V):\n",
    "    return (V + 0.897) / 500\n",
    "def integ_V(V, t):\n",
    "    time_step = (t[10] - t[0])/10\n",
    "    integ_V = [0]\n",
    "    for j in range(len(t)-1):\n",
    "        integ_V.append(integ_V[j]+V[j]*time_step)\n",
    "    return integ_V\n",
    "\n",
    "def recover_numbers(string):\n",
    "    return int(string[:3])\n",
    "\n",
    "# Filter functions\n",
    "def gauss_func(f, freq_cut):\n",
    "    return np.exp(-0.5*f**2/freq_cut**2)\n",
    "def filter_data(X, t, freq_cut):\n",
    "    sp = np.fft.fft(X)\n",
    "    freq = np.fft.fftfreq(t.shape[-1])\n",
    "    freq = freq * (1/(t[1]-t[0]))\n",
    "    \n",
    "    mask_filter = gauss_func(freq, freq_cut)\n",
    "    sp_mask = mask_filter * sp\n",
    "    return np.fft.ifft(sp_mask).real\n",
    "def filter_data_pass_high(X, t, freq_cut):\n",
    "    sp = np.fft.fft(X)\n",
    "    freq = np.fft.fftfreq(t.shape[-1])\n",
    "    freq = freq * (1/(t[1]-t[0]))\n",
    "    \n",
    "    mask_filter = 1 - gauss_func(freq, freq_cut)\n",
    "    sp_mask = mask_filter * sp\n",
    "    return np.fft.ifft(sp_mask).real\n",
    "def AC_conversion(X, t):\n",
    "    x = X.copy()\n",
    "    cutoff_freq = 2\n",
    "    time_step = (t[10] - t[0])/10\n",
    "    ratio = 1/(2**(time_step*cutoff_freq))\n",
    "    x_AC = np.zeros(len(x))\n",
    "    x_AC[0] = x[0]\n",
    "    for i in range(len(x)-1):\n",
    "        x_AC[i+1] = ratio*x_AC[i] + (x[i+1]-x[i])\n",
    "    return x_AC\n",
    "\n",
    "# Plotting function\n",
    "def plot_data(V, P, t, labels=[\"Induced voltage [V]\", \"Differential pressure [Pa]\"], t_char=None):\n",
    "    fig, ax = plt.subplots(1, 1, figsize=[10, 6])\n",
    "    axes = [ax, ax.twinx()]\n",
    "    colors = ('midnightblue', 'crimson')\n",
    "    for i in range(2):\n",
    "        ax, color = (axes[i], colors[i])\n",
    "        if i == 0: data = V\n",
    "        if i == 1: data = P\n",
    "        ax.plot(t, data, color=color)\n",
    "        if i == 0: ax.set_ylabel(labels[0])\n",
    "        if i == 1: ax.set_ylabel(labels[1])\n",
    "        if isinstance(t_char, list) and i==1:\n",
    "            ax.vlines(t_char, np.amin(P), np.amax(P), colors=\"black\")\n",
    "        ax.tick_params(axis='y', colors=color)\n",
    "    axes[0].set_xlabel(\"time [s]\")\n",
    "    plt.show()\n",
    "\n",
    "# Getting metrics\n",
    "def integ_metric(V, P, t, sigma_t):\n",
    "    time_step = (t[10] - t[0])/10\n",
    "    V_f = filter_data(V, t, 200)\n",
    "    P_f = filter_data(P, t, 5)\n",
    "    index1 = np.argmax(np.gradient(P_f))\n",
    "    index2 = np.argmin(np.gradient(P_f))\n",
    "    sigma_index = int(sigma_t / time_step)\n",
    "    return (np.sum(V_f[index1-sigma_index:index1+sigma_index])*time_step,\n",
    "            np.sum(V_f[index2-sigma_index:index2+sigma_index])*time_step)\n",
    "def var_metric(V, P, t, sigma_t):\n",
    "    time_step = (t[10] - t[0])/10\n",
    "    V_f = filter_data(V, t, 200)\n",
    "    V_f = V_f - np.mean(V_f)\n",
    "    P_f = filter_data(P, t, 5)\n",
    "    index1 = np.argmax(np.gradient(P_f))\n",
    "    index2 = np.argmin(np.gradient(P_f))\n",
    "    sigma_index = int(sigma_t / time_step)\n",
    "    return (np.mean(V_f[index1-sigma_index:index1+sigma_index]**2)**0.5,\n",
    "            np.mean(V_f[index2-sigma_index:index2+sigma_index]**2)**0.5)"
   ]
  },
  {
   "cell_type": "code",
   "execution_count": 45,
   "id": "c5fb7929-f4fa-4771-9efe-e7457080f103",
   "metadata": {},
   "outputs": [
    {
     "name": "stdout",
     "output_type": "stream",
     "text": [
      "t1 :  -0.0027716065  t2 :  -0.0027716065\n"
     ]
    }
   ],
   "source": [
    "%matplotlib qt\n",
    "\n",
    "P_string = \"135kPa\"\n",
    "I_string = \"100mA\"\n",
    "\n",
    "t = data[P_string][I_string][\"V\"][0][:, 0]\n",
    "\n",
    "V = conv_V(data[P_string][I_string][\"V\"][0][:, 1])\n",
    "V_f = filter_data(V, t, 200)\n",
    "V_f_AC = AC_conversion(V_f, t)\n",
    "V_f_integ = integ_V(V_f, t)\n",
    "V_f_integ_AC = integ_V(V_f_AC, t)\n",
    "\n",
    "P = conv_P(data[P_string][I_string][\"P\"][0][:, 1])\n",
    "P = P - 34458\n",
    "P_f = filter_data(P, t, 15)\n",
    "\n",
    "t1 = np.argmax(np.gradient(P_f))\n",
    "t2 = np.argmin(np.gradient(P_f))\n",
    "\n",
    "print(\"t1 : \", t[t1], \" t2 : \", t[t1])\n",
    "\n",
    "#plot_data(V, P, t)\n",
    "#plot_data(V, P, t)\n",
    "plot_data(V_f, P_f, t, t_char=[t[t1], t[t2]])\n",
    "#plot_data(V_f_AC, P_f, t)\n",
    "#plot_data(V_f_integ, P_f, t)\n",
    "#plot_data(V_f_integ_AC, P_f, t)"
   ]
  },
  {
   "cell_type": "code",
   "execution_count": 8,
   "id": "445550a4-ec5e-4d86-b561-c05483f56d98",
   "metadata": {},
   "outputs": [
    {
     "data": {
      "text/plain": [
       "34458.0086091576"
      ]
     },
     "execution_count": 8,
     "metadata": {},
     "output_type": "execute_result"
    }
   ],
   "source": [
    "np.amin(P_f)"
   ]
  },
  {
   "cell_type": "markdown",
   "id": "2ea26f81-b9b1-4131-8659-ac6be97756b5",
   "metadata": {},
   "source": [
    "### Calculating the metrics"
   ]
  },
  {
   "cell_type": "code",
   "execution_count": 21,
   "id": "92ca9aec-710d-497f-a9c2-8696b250cdf4",
   "metadata": {},
   "outputs": [],
   "source": [
    "# It takes 90 seconds\n",
    "pressures = [\"135kPa\", \"190kPa\", \"270kPa\", \"380kPa\"] # , \"540kPa\"\n",
    "currents = [\"000mA\", \"050mA\", \"100mA\", \"150mA\", \"200mA\", \"250mA\", \"300mA\", \"350mA\",\n",
    "            \"400mA\", \"450mA\", \"500mA\", \"550mA\", \"600mA\", \"650mA\", \"700mA\", \"750mA\",\n",
    "            \"800mA\", \"850mA\", \"900mA\", \"950mA\", \"1000mA\"]\n",
    "measurements_types = [\"V\", \"P\"]\n",
    "number_measures = 3\n",
    "metrics_types = [\"integ\", \"var\"]\n",
    "\n",
    "data_metrics = {}\n",
    "\n",
    "# construction of the data architecture\n",
    "for counter_P, P in enumerate(pressures):\n",
    "    data_metrics[P] = {}\n",
    "    for counter_I ,I in enumerate(currents):\n",
    "        if counter_I >= counter_P*2 and counter_I <= 10 + counter_P*2 and not (P == \"135kPa\" and I == \"000mA\"):\n",
    "            # print(I)\n",
    "            # data_metrics[P][I] = [{}]*number_measures\n",
    "            data_metrics[P][I] = {}\n",
    "            for n in range(number_measures):\n",
    "                data_metrics[P][I][str(n)] = {}\n",
    "                for m_type in metrics_types:\n",
    "                    if m_type == \"var\":\n",
    "                        if P == \"540kPa\":\n",
    "                            data_metrics[P][I][str(n)][m_type] = var_metric(data[P][I][\"V\"][n][:, 1]/500,\n",
    "                                                                       conv_P(data[P][I][\"P\"][n][:, 1]),\n",
    "                                                                       data[P][I][\"V\"][n][:, 0],\n",
    "                                                                       0.1)\n",
    "                        else:\n",
    "                            data_metrics[P][I][str(n)][m_type] = var_metric(conv_V(data[P][I][\"V\"][n][:, 1]),\n",
    "                                                                       conv_P(data[P][I][\"P\"][n][:, 1]),\n",
    "                                                                       data[P][I][\"V\"][n][:, 0],\n",
    "                                                                       0.1)\n",
    "                    if m_type == \"integ\":\n",
    "                        if P == \"540kPa\":\n",
    "                            data_metrics[P][I][str(n)][m_type] = integ_metric(data[P][I][\"V\"][n][:, 1]/500,\n",
    "                                                                         conv_P(data[P][I][\"P\"][n][:, 1]),\n",
    "                                                                         data[P][I][\"V\"][n][:, 0],\n",
    "                                                                         0.1)\n",
    "                        else:\n",
    "                            data_metrics[P][I][str(n)][m_type] = integ_metric(conv_V(data[P][I][\"V\"][n][:, 1]),\n",
    "                                                                     conv_P(data[P][I][\"P\"][n][:, 1]),\n",
    "                                                                     data[P][I][\"V\"][n][:, 0],\n",
    "                                                                     0.1)"
   ]
  },
  {
   "cell_type": "markdown",
   "id": "493218f6-2857-4e6c-a48b-b27fd924d2cb",
   "metadata": {},
   "source": [
    "### Plotting the 3D plot of P and I"
   ]
  },
  {
   "cell_type": "code",
   "execution_count": 24,
   "id": "0b5408fc-0844-45bb-ad85-5eea3d7bf3a8",
   "metadata": {},
   "outputs": [],
   "source": [
    "%matplotlib qt"
   ]
  },
  {
   "cell_type": "code",
   "execution_count": 75,
   "id": "e70589a4-522f-4323-a4d0-2d6e86ec8b8a",
   "metadata": {},
   "outputs": [],
   "source": [
    "# NORMAL GRAPHS\n",
    "m_type = \"integ\"\n",
    "number_measures = 3\n",
    "\n",
    "by_hsv = sorted((tuple(mcolors.rgb_to_hsv(mcolors.to_rgb(color))), name) for name, color in mcolors.TABLEAU_COLORS.items())\n",
    "names = [name for hsv, name in by_hsv]\n",
    "\n",
    "fig, ax = plt.subplots(1, 1, figsize=[10, 6])\n",
    "\n",
    "# construction of the data architecture\n",
    "for counter_P, P in enumerate(pressures):\n",
    "    for counter_I ,I in enumerate(currents):\n",
    "        if counter_I >= counter_P*2 and counter_I <= 10 + counter_P*2 and not (P == \"135kPa\" and I == \"000mA\"):\n",
    "            for n in range(number_measures):\n",
    "                line = ax.scatter(recover_numbers(I), -1000*data_metrics[P][I][str(n)][m_type][1], c=names[counter_P], alpha=0.7)\n",
    "                if counter_I == counter_P*2 + 1 and n == 0:\n",
    "                    line.set_label(P)\n",
    "\n",
    "ax.legend()\n",
    "#ax.set_ylim([-0.001, 0.010])\n",
    "ax.set_xlabel('Current [mA]')\n",
    "ax.set_ylabel('Integral of the induced voltage [mVs]')\n",
    "\n",
    "plt.show()"
   ]
  },
  {
   "cell_type": "code",
   "execution_count": 79,
   "id": "bdc38904-dad3-4c6c-a64e-c5180710f8b3",
   "metadata": {},
   "outputs": [],
   "source": [
    "# R VALUE GRAPHS\n",
    "m_type = \"integ\"\n",
    "number_measures = 3\n",
    "\n",
    "Ns = 174\n",
    "Ne = 135\n",
    "g = 0.0005\n",
    "S = 0.00011\n",
    "mu0 = 0.000001257\n",
    "phi = 0.33\n",
    "alph = 2*g/(Ns*Ne*mu0*S*phi)\n",
    "r0 = 0.938\n",
    "\n",
    "by_hsv = sorted((tuple(mcolors.rgb_to_hsv(mcolors.to_rgb(color))), name) for name, color in mcolors.TABLEAU_COLORS.items())\n",
    "names = [name for hsv, name in by_hsv]\n",
    "\n",
    "fig, ax = plt.subplots(1, 1, figsize=[10, 6])\n",
    "\n",
    "# construction of the data architecture\n",
    "for counter_P, P in enumerate(pressures):\n",
    "    for counter_I ,I in enumerate(currents):\n",
    "        if counter_I >= counter_P*2 and counter_I <= 10 + counter_P*2 and not (P == \"135kPa\" and I == \"000mA\"):\n",
    "            for n in range(number_measures):\n",
    "                i = recover_numbers(I)/1000\n",
    "                IV = data_metrics[P][I][str(n)][m_type][1]\n",
    "                line = ax.scatter(recover_numbers(I),\n",
    "                                  1 - (1-r0) / (1-(1-r0)*alph*IV/i),\n",
    "                                  c=names[counter_P], alpha=0.7)\n",
    "                if counter_I == counter_P*2 + 1 and n == 0:\n",
    "                    line.set_label(P)\n",
    "\n",
    "ax.legend()\n",
    "#ax.set_ylim([0.93794, 0.93802])\n",
    "ax.set_xlabel('Current [mA]')\n",
    "ax.set_ylabel('r value [-]')\n",
    "\n",
    "plt.show()"
   ]
  },
  {
   "cell_type": "code",
   "execution_count": 59,
   "id": "4028f748-4a77-4c2b-918b-69c2e8616de7",
   "metadata": {},
   "outputs": [
    {
     "name": "stderr",
     "output_type": "stream",
     "text": [
      "No handles with labels found to put in legend.\n"
     ]
    }
   ],
   "source": [
    "m_type = \"integ\"\n",
    "number_measures = 3\n",
    "\n",
    "by_hsv = sorted((tuple(mcolors.rgb_to_hsv(mcolors.to_rgb(color))), name) for name, color in mcolors.TABLEAU_COLORS.items())\n",
    "names = [name for hsv, name in by_hsv]\n",
    "\n",
    "fig, ax = plt.subplots(1, 1, figsize=[10, 6])\n",
    "\n",
    "# construction of the data architecture\n",
    "for counter_P, P in enumerate(pressures):\n",
    "    for counter_I ,I in enumerate(currents):\n",
    "        if counter_I >= counter_P*2 and counter_I <= 10 + counter_P*2 and I == \"500mA\":\n",
    "            for n in range(number_measures):\n",
    "                line = ax.scatter(recover_numbers(P), 1000*np.abs(data_metrics[P][I][str(n)][m_type][1]), c=names[counter_I%8], alpha=0.7)\n",
    "\n",
    "ax.legend()\n",
    "#ax.set_ylim([-0.001, 0.010])\n",
    "ax.set_xlabel('Current [mA]')\n",
    "ax.set_ylabel('Integral of the induced voltage [mVs]')\n",
    "\n",
    "plt.show()"
   ]
  },
  {
   "cell_type": "markdown",
   "id": "c55551e6-4c84-42dc-a097-4de945e0a628",
   "metadata": {
    "tags": []
   },
   "source": [
    "## Reproduction of the results with model based simulations"
   ]
  },
  {
   "cell_type": "markdown",
   "id": "c5ab7380-5cce-46b6-a56a-dadf09b9c90c",
   "metadata": {},
   "source": [
    "### Single use"
   ]
  },
  {
   "cell_type": "code",
   "execution_count": 80,
   "id": "4cbe8db6-a99d-4d1e-920b-11384e6b52b8",
   "metadata": {},
   "outputs": [],
   "source": [
    "def interpolation_20(X):\n",
    "    nb_step = 300_000\n",
    "    ret = np.zeros(nb_step)\n",
    "    for i in range(len(X)-1):\n",
    "        for j in range(20):\n",
    "            ret[i*20 + j] = X[i] * (20 - j) / 20 + X[i+1] * j / 20\n",
    "    for i in range(20):\n",
    "        ret[-(i+1)] = ret[-21]\n",
    "    return ret"
   ]
  },
  {
   "cell_type": "code",
   "execution_count": 110,
   "id": "4dfcc9bc-d696-4774-92c2-3a46142e9d07",
   "metadata": {},
   "outputs": [],
   "source": [
    "nb_step = 300_000\n",
    "\n",
    "# Constant current\n",
    "i_max = 0.5/2 # because double gap\n",
    "i = np.ones(nb_step)*i_max\n",
    "\n",
    "t = data[\"270kPa\"][\"200mA\"][\"P\"][0][:, 0]\n",
    "V = conv_V(data[\"270kPa\"][\"200mA\"][\"V\"][0][:, 1])\n",
    "V_f = filter_data(V, t, 200)\n",
    "P = conv_P(data[\"270kPa\"][\"200mA\"][\"P\"][0][:, 1])\n",
    "P_f = filter_data(P, t, 5)\n",
    "dP_f = P_f - P_f[2500]\n",
    "dP_f = np.abs(dP_f[2500:17500])\n",
    "dP_f_resample = interpolation_20(dP_f)"
   ]
  },
  {
   "cell_type": "code",
   "execution_count": 114,
   "id": "3af2e011-bf12-4baf-957e-06458cb11663",
   "metadata": {},
   "outputs": [],
   "source": [
    "analysis = MRF(step_t=1*10**(-6), nb_step=nb_step,\n",
    "               fi=0.302, d=math.pi*2*(0.0069 + 0.00025), g=0.0005, length=0.0025,\n",
    "               N_e=135.5, N_s=174.5, b=1, # d_eff_disp=0.0001,\n",
    "               i=i, dP=dP_f_resample)\n",
    "\n",
    "analysis.run()\n",
    "\n",
    "print(\"Yield stress pressure drop : \", analysis.tau[0])\n",
    "print(\"H : \", analysis.H[0], \" B : \", analysis.H[0]*1.25*10**(-6))"
   ]
  },
  {
   "cell_type": "code",
   "execution_count": 115,
   "id": "7ce470f5-99ee-4f12-bf6b-7c66fae63921",
   "metadata": {},
   "outputs": [
    {
     "data": {
      "text/plain": [
       "Text(0.5, 0, 'time [s]')"
      ]
     },
     "execution_count": 115,
     "metadata": {},
     "output_type": "execute_result"
    },
    {
     "data": {
      "image/png": "[encoded data removed]",
      "text/plain": [
       "<Figure size 504x288 with 1 Axes>"
      ]
     },
     "metadata": {
      "needs_background": "light"
     },
     "output_type": "display_data"
    }
   ],
   "source": [
    "t_sim = np.linspace(0, 1, analysis.nb_step)\n",
    "t_sim = t_sim * (analysis.nb_step - 1) * analysis.step_t\n",
    "\n",
    "fig, ax = plt.subplots(1, 1, figsize=[7, 4])\n",
    "ax.plot(t_sim, analysis.v)\n",
    "ax.plot(t, V_f*10)\n",
    "ax.set_ylabel(\"Induced voltage [V]\")\n",
    "ax.set_xlabel(\"time [s]\")"
   ]
  },
  {
   "cell_type": "markdown",
   "id": "145e60f9-a9d3-44d1-a98a-37b2d24c87f1",
   "metadata": {},
   "source": [
    "### All data simulation"
   ]
  },
  {
   "cell_type": "code",
   "execution_count": 149,
   "id": "48800b5c-7826-491e-902e-023b57a2f5a5",
   "metadata": {},
   "outputs": [
    {
     "name": "stdout",
     "output_type": "stream",
     "text": [
      "Current current :  050mA\n",
      "135kPa 050mA\n",
      "Current current :  100mA\n",
      "135kPa 100mA\n",
      "Current current :  150mA\n",
      "135kPa 150mA\n",
      "Current current :  200mA\n",
      "135kPa 200mA\n",
      "Current current :  250mA\n",
      "135kPa 250mA\n",
      "Current current :  300mA\n",
      "135kPa 300mA\n",
      "Current current :  350mA\n",
      "135kPa 350mA\n",
      "Current current :  400mA\n",
      "135kPa 400mA\n",
      "Current current :  450mA\n",
      "135kPa 450mA\n",
      "Current current :  500mA\n",
      "135kPa 500mA\n",
      "Current current :  100mA\n",
      "190kPa 100mA\n",
      "Current current :  150mA\n",
      "190kPa 150mA\n",
      "Current current :  200mA\n",
      "190kPa 200mA\n",
      "Current current :  250mA\n",
      "190kPa 250mA\n",
      "Current current :  300mA\n",
      "190kPa 300mA\n",
      "Current current :  350mA\n",
      "190kPa 350mA\n",
      "Current current :  400mA\n",
      "190kPa 400mA\n",
      "Current current :  450mA\n",
      "190kPa 450mA\n",
      "Current current :  500mA\n",
      "190kPa 500mA\n",
      "Current current :  550mA\n",
      "190kPa 550mA\n",
      "Current current :  600mA\n",
      "190kPa 600mA\n",
      "Current current :  200mA\n",
      "270kPa 200mA\n",
      "Current current :  250mA\n",
      "270kPa 250mA\n",
      "Current current :  300mA\n",
      "270kPa 300mA\n",
      "Current current :  350mA\n",
      "270kPa 350mA\n",
      "Current current :  400mA\n",
      "270kPa 400mA\n",
      "Current current :  450mA\n",
      "270kPa 450mA\n",
      "Current current :  500mA\n",
      "270kPa 500mA\n",
      "Current current :  550mA\n",
      "270kPa 550mA\n",
      "Current current :  600mA\n",
      "270kPa 600mA\n",
      "Current current :  650mA\n",
      "270kPa 650mA\n",
      "Current current :  700mA\n",
      "270kPa 700mA\n",
      "Current current :  300mA\n",
      "380kPa 300mA\n",
      "Current current :  350mA\n",
      "380kPa 350mA\n",
      "Current current :  400mA\n",
      "380kPa 400mA\n",
      "Current current :  450mA\n",
      "380kPa 450mA\n",
      "Current current :  500mA\n",
      "380kPa 500mA\n",
      "Current current :  550mA\n",
      "380kPa 550mA\n",
      "Current current :  600mA\n",
      "380kPa 600mA\n",
      "Current current :  650mA\n",
      "380kPa 650mA\n",
      "Current current :  700mA\n",
      "380kPa 700mA\n",
      "Current current :  750mA\n"
     ]
    },
    {
     "name": "stderr",
     "output_type": "stream",
     "text": [
      "C:\\Users\\timot\\Documents\\calculations_annular_valve.py:120: RuntimeWarning: overflow encountered in double_scalars\n",
      "  \"\"\"Calculate the magnetic permitivity.\"\"\"\n",
      "C:\\Users\\timot\\Documents\\calculations_annular_valve.py:120: RuntimeWarning: invalid value encountered in double_scalars\n",
      "  \"\"\"Calculate the magnetic permitivity.\"\"\"\n"
     ]
    },
    {
     "name": "stdout",
     "output_type": "stream",
     "text": [
      "380kPa 750mA\n",
      "Current current :  800mA\n",
      "380kPa 800mA\n",
      "Current current :  450mA\n",
      "540kPa 450mA\n",
      "Current current :  500mA\n",
      "540kPa 500mA\n",
      "Current current :  550mA\n",
      "540kPa 550mA\n",
      "Current current :  600mA\n",
      "540kPa 600mA\n",
      "Current current :  650mA\n",
      "540kPa 650mA\n",
      "Current current :  700mA\n",
      "540kPa 700mA\n",
      "Current current :  750mA\n",
      "540kPa 750mA\n",
      "Current current :  800mA\n",
      "540kPa 800mA\n",
      "Current current :  850mA\n",
      "540kPa 850mA\n",
      "Current current :  900mA\n",
      "540kPa 900mA\n"
     ]
    }
   ],
   "source": [
    "# It takes 90 seconds\n",
    "pressures = [\"135kPa\", \"190kPa\", \"270kPa\", \"380kPa\", \"540kPa\"]\n",
    "currents = [\"000mA\", \"050mA\", \"100mA\", \"150mA\", \"200mA\", \"250mA\", \"300mA\", \"350mA\",\n",
    "            \"400mA\", \"450mA\", \"500mA\", \"550mA\", \"600mA\", \"650mA\", \"700mA\", \"750mA\",\n",
    "            \"800mA\", \"850mA\", \"900mA\", \"950mA\", \"1000mA\"]\n",
    "measurements_types = [\"V\", \"P\"]\n",
    "\n",
    "data_sim = {}\n",
    "\n",
    "nb_step = 300_000\n",
    "\n",
    "# construction of the data architecture\n",
    "for counter_P, P in enumerate(pressures):\n",
    "    data_sim[P] = {}\n",
    "    for counter_I ,I in enumerate(currents):\n",
    "        if counter_I >= counter_P*2 and counter_I <= 10 + counter_P*2 \\\n",
    "            and not (P == \"540kPa\" and I == \"400mA\") and not (P == \"135kPa\" and I == \"000mA\"):\n",
    "            print(\"Current current : \", I)\n",
    "            \n",
    "            i_max = recover_numbers(I)/2000 # because double gap and mA\n",
    "            i = np.ones(nb_step)*i_max\n",
    "\n",
    "            t = data[P][I][\"P\"][0][:, 0]\n",
    "            P_signal = conv_P(data[P][I][\"P\"][0][:, 1])\n",
    "            P_signal_f = filter_data(P_signal, t, 5)\n",
    "            dP_f = P_signal_f - P_signal_f[2500]\n",
    "            dP_f = np.abs(dP_f[2500:17500])\n",
    "            dP_f_resample = interpolation_20(dP_f)\n",
    "            \n",
    "            analysis = MRF(step_t=1*10**(-6), nb_step=nb_step,\n",
    "                           fi=0.302, d=math.pi*2*(0.0069 + 0.00025), g=0.0005, length=0.0025,\n",
    "                           N_e=135.5, N_s=174.5, b=0.1, # d_eff_disp=0.0001,\n",
    "                           i=i, dP=dP_f_resample)\n",
    "            analysis.run()\n",
    "\n",
    "            t_sim = np.linspace(0, 1, analysis.nb_step)\n",
    "            t_sim = t_sim * (analysis.nb_step - 1) * analysis.step_t\n",
    "            print(P, I)\n",
    "            data_sim[P][I] = (t_sim, analysis.v)"
   ]
  },
  {
   "cell_type": "code",
   "execution_count": 143,
   "id": "10e1a1db-92f3-40fd-ae25-17e6edeb4243",
   "metadata": {},
   "outputs": [],
   "source": [
    "%matplotlib qt"
   ]
  },
  {
   "cell_type": "code",
   "execution_count": 154,
   "id": "76dadd21-9114-4008-9d4e-c7977bcc81ac",
   "metadata": {},
   "outputs": [],
   "source": [
    "by_hsv = sorted((tuple(mcolors.rgb_to_hsv(mcolors.to_rgb(color))), name) for name, color in mcolors.TABLEAU_COLORS.items())\n",
    "names = [name for hsv, name in by_hsv]\n",
    "\n",
    "fig, ax = plt.subplots(1, 1, figsize=[10, 6])\n",
    "\n",
    "# construction of the data architecture\n",
    "for counter_P, P in enumerate(pressures):\n",
    "    for counter_I ,I in enumerate(currents):\n",
    "        if counter_I >= counter_P*2 and counter_I <= 10 + counter_P*2 \\\n",
    "            and not (P == \"540kPa\" and I == \"400mA\") and not (P == \"135kPa\" and I == \"000mA\"):\n",
    "            # print(recover_numbers(I))\n",
    "            line = ax.scatter(recover_numbers(I), np.sum(data_sim[P][I][1])/10**6, c=names[counter_P], alpha=0.3)\n",
    "            if counter_I == counter_P*2 + 1:\n",
    "                line.set_label(P)\n",
    "\n",
    "ax.legend()\n",
    "ax.set_xlabel('Current [mA]')\n",
    "ax.set_ylabel('metric [Vs]')\n",
    "\n",
    "plt.show()"
   ]
  },
  {
   "cell_type": "code",
   "execution_count": 152,
   "id": "a795402f-6541-4a34-acb9-c008371d7340",
   "metadata": {},
   "outputs": [
    {
     "data": {
      "text/plain": [
       "[<matplotlib.lines.Line2D at 0x1f2b9ddd730>]"
      ]
     },
     "execution_count": 152,
     "metadata": {},
     "output_type": "execute_result"
    }
   ],
   "source": [
    "plt.plot(data_sim[\"540kPa\"][\"700mA\"][1])"
   ]
  },
  {
   "cell_type": "markdown",
   "id": "63e66336-cc32-4c49-bdc2-83b9a457acfb",
   "metadata": {},
   "source": [
    "## Test impact of auto induction"
   ]
  },
  {
   "cell_type": "code",
   "execution_count": 40,
   "id": "0180b786-2018-4b9e-89da-d66416f3bc9f",
   "metadata": {},
   "outputs": [],
   "source": [
    "def L_evolution(t):\n",
    "    value = 0.001\n",
    "    factor = 3\n",
    "    if t < 0.25:\n",
    "        return value\n",
    "    if t > 0.75:\n",
    "        return value * factor\n",
    "    return value + (t - 0.25) * 2 * value * (factor-1)\n",
    "\n",
    "N = 1000\n",
    "dt = 1/N\n",
    "V = np.ones(N)\n",
    "t = np.linspace(0, 1, N)\n",
    "R = 4\n",
    "L = np.array(list(map(L_evolution, t)))\n",
    "\n",
    "V_ind = np.zeros(N)\n",
    "V_ind_approx = np.zeros(N)\n",
    "i = np.zeros(N)\n",
    "i_cte = V[0]/R\n",
    "i[0] = V[0]/R"
   ]
  },
  {
   "cell_type": "code",
   "execution_count": 41,
   "id": "2a745ad5-8eac-4cfd-bdba-6d9b758cdbcd",
   "metadata": {},
   "outputs": [],
   "source": [
    "for step in range(1, N):\n",
    "    i[step] = (V[step] + L[step-1]*i[step-1]/dt) / (R + L[step]/dt)\n",
    "    V_ind[step] = (L[step]*i[step] - L[step-1]*i[step-1])/dt\n",
    "    V_ind_approx[step] = (L[step]*i_cte - L[step-1]*i_cte)/dt"
   ]
  },
  {
   "cell_type": "code",
   "execution_count": 42,
   "id": "634b3580-542b-4402-adb0-9fcfbcaf19fa",
   "metadata": {},
   "outputs": [
    {
     "data": {
      "text/plain": [
       "[<matplotlib.lines.Line2D at 0x1f2b93b9580>]"
      ]
     },
     "execution_count": 42,
     "metadata": {},
     "output_type": "execute_result"
    },
    {
     "data": {
      "image/png": "[encoded data removed]",
      "text/plain": [
       "<Figure size 432x288 with 1 Axes>"
      ]
     },
     "metadata": {
      "needs_background": "light"
     },
     "output_type": "display_data"
    }
   ],
   "source": [
    "plt.plot(V_ind)\n",
    "plt.plot(V_ind_approx)"
   ]
  },
  {
   "cell_type": "markdown",
   "id": "d4aa75c5-1883-40d0-89fc-cc036fa5ae28",
   "metadata": {},
   "source": [
    "### Figure for report"
   ]
  },
  {
   "cell_type": "code",
   "execution_count": null,
   "id": "ff50e1b3-9ebc-4e5e-84e2-5bbe2fdc322f",
   "metadata": {},
   "outputs": [],
   "source": []
  }
 ],
 "metadata": {
  "kernelspec": {
   "display_name": "Python 3 (ipykernel)",
   "language": "python",
   "name": "python3"
  },
  "language_info": {
   "codemirror_mode": {
    "name": "ipython",
    "version": 3
   },
   "file_extension": ".py",
   "mimetype": "text/x-python",
   "name": "python",
   "nbconvert_exporter": "python",
   "pygments_lexer": "ipython3",
   "version": "3.8.11"
  }
 },
 "nbformat": 4,
 "nbformat_minor": 5
}
